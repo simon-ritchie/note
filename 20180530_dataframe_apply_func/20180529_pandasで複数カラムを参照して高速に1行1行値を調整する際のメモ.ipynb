{
 "cells": [
  {
   "cell_type": "markdown",
   "metadata": {
    "toc": true
   },
   "source": [
    "<h1>Table of Contents<span class=\"tocSkip\"></span></h1>\n",
    "<div class=\"toc\" style=\"margin-top: 1em;\"><ul class=\"toc-item\"><li><span><a href=\"#TL;DR\" data-toc-modified-id=\"TL;DR-1\"><span class=\"toc-item-num\">1&nbsp;&nbsp;</span>TL;DR</a></span></li><li><span><a href=\"#この記事で使うもの\" data-toc-modified-id=\"この記事で使うもの-2\"><span class=\"toc-item-num\">2&nbsp;&nbsp;</span>この記事で使うもの</a></span></li><li><span><a href=\"#この記事で扱わないもの\" data-toc-modified-id=\"この記事で扱わないもの-3\"><span class=\"toc-item-num\">3&nbsp;&nbsp;</span>この記事で扱わないもの</a></span></li><li><span><a href=\"#ダミーデータの準備\" data-toc-modified-id=\"ダミーデータの準備-4\"><span class=\"toc-item-num\">4&nbsp;&nbsp;</span>ダミーデータの準備</a></span></li><li><span><a href=\"#とりあえずループは遅い\" data-toc-modified-id=\"とりあえずループは遅い-5\"><span class=\"toc-item-num\">5&nbsp;&nbsp;</span>とりあえずループは遅い</a></span></li><li><span><a href=\"#apply関数を利用する\" data-toc-modified-id=\"apply関数を利用する-6\"><span class=\"toc-item-num\">6&nbsp;&nbsp;</span>apply関数を利用する</a></span></li><li><span><a href=\"#デメリットは？\" data-toc-modified-id=\"デメリットは？-7\"><span class=\"toc-item-num\">7&nbsp;&nbsp;</span>デメリットは？</a></span></li><li><span><a href=\"#おまけ\" data-toc-modified-id=\"おまけ-8\"><span class=\"toc-item-num\">8&nbsp;&nbsp;</span>おまけ</a></span></li></ul></div>"
   ]
  },
  {
   "cell_type": "markdown",
   "metadata": {},
   "source": [
    "# TL;DR"
   ]
  },
  {
   "cell_type": "markdown",
   "metadata": {},
   "source": [
    "pandasでデータフレームを扱っていて、ローカルでのちょっとした集計などで、たまに1行１行（複数のカラムの）値を参照して集計や補正をしたいことがあります。\n",
    "\n",
    "その際、許容できるくらいの計算時間に収めるための方法のメモです。（色々やり方はあると思いますが、一例として）\n",
    "\n",
    "500万行程度の、そこまで大きくないデータを想定します。"
   ]
  },
  {
   "cell_type": "markdown",
   "metadata": {},
   "source": [
    "# この記事で使うもの\n",
    "\n",
    "以下のものだけで対応することを想定します。\n",
    "\n",
    "- Pythonのビルドインのものやpandas、NumPyなどの基本的なもの"
   ]
  },
  {
   "cell_type": "markdown",
   "metadata": {},
   "source": [
    "# この記事で扱わないもの\n",
    "\n",
    "- NumbaだったりCythonなど。（機会があれば将来別の記事で・・）"
   ]
  },
  {
   "cell_type": "markdown",
   "metadata": {},
   "source": [
    "# ダミーデータの準備\n",
    "\n",
    "記事内で扱うための、適当な500万行のデータを用意します。"
   ]
  },
  {
   "cell_type": "code",
   "execution_count": 3,
   "metadata": {},
   "outputs": [],
   "source": [
    "import pandas as pd\n",
    "import numpy as np"
   ]
  },
  {
   "cell_type": "code",
   "execution_count": 5,
   "metadata": {},
   "outputs": [],
   "source": [
    "df = pd.DataFrame(\n",
    "    columns=['apple_price', 'orange_price', 'melon_price'],\n",
    "    index=np.arange(0, 5000000))"
   ]
  },
  {
   "cell_type": "code",
   "execution_count": 7,
   "metadata": {},
   "outputs": [],
   "source": [
    "df.apple_price = np.random.randint(low=60, high=160, size=5000000)"
   ]
  },
  {
   "cell_type": "code",
   "execution_count": 9,
   "metadata": {},
   "outputs": [],
   "source": [
    "df.orange_price = np.random.randint(low=70, high=140, size=5000000)"
   ]
  },
  {
   "cell_type": "code",
   "execution_count": 10,
   "metadata": {},
   "outputs": [],
   "source": [
    "df.melon_price = np.random.randint(low=120, high=340, size=5000000)"
   ]
  },
  {
   "cell_type": "code",
   "execution_count": 12,
   "metadata": {},
   "outputs": [
    {
     "data": {
      "text/html": [
       "<div>\n",
       "<table border=\"1\" class=\"dataframe\">\n",
       "  <thead>\n",
       "    <tr style=\"text-align: right;\">\n",
       "      <th></th>\n",
       "      <th>apple_price</th>\n",
       "      <th>orange_price</th>\n",
       "      <th>melon_price</th>\n",
       "    </tr>\n",
       "  </thead>\n",
       "  <tbody>\n",
       "    <tr>\n",
       "      <th>0</th>\n",
       "      <td>119</td>\n",
       "      <td>106</td>\n",
       "      <td>181</td>\n",
       "    </tr>\n",
       "    <tr>\n",
       "      <th>1</th>\n",
       "      <td>75</td>\n",
       "      <td>117</td>\n",
       "      <td>243</td>\n",
       "    </tr>\n",
       "    <tr>\n",
       "      <th>2</th>\n",
       "      <td>113</td>\n",
       "      <td>120</td>\n",
       "      <td>172</td>\n",
       "    </tr>\n",
       "  </tbody>\n",
       "</table>\n",
       "</div>"
      ],
      "text/plain": [
       "   apple_price  orange_price  melon_price\n",
       "0          119           106          181\n",
       "1           75           117          243\n",
       "2          113           120          172"
      ]
     },
     "execution_count": 12,
     "metadata": {},
     "output_type": "execute_result"
    }
   ],
   "source": [
    "df[:3]"
   ]
  },
  {
   "cell_type": "code",
   "execution_count": 14,
   "metadata": {},
   "outputs": [
    {
     "data": {
      "text/plain": [
       "5000000"
      ]
     },
     "execution_count": 14,
     "metadata": {},
     "output_type": "execute_result"
    }
   ],
   "source": [
    "len(df)"
   ]
  },
  {
   "cell_type": "markdown",
   "metadata": {},
   "source": [
    "上記のようなデータを使って、適当ですが例えば以下のような条件で複数のカラムを参照して、fruit_typeというカラムに値を設定することを想定します。\n",
    "\n",
    "- もしapple_priceが120以上且つorange_priceが130以上 -> fruit_type = 1\n",
    "- 上記以外で、もしapple_priceが130以下且つmelon_priceが200以上 -> fruit_type = 2\n",
    "- 上記以外で、もしorange_priceが100以下且つmelon_priceが300以下 -> fruit_type = 3\n",
    "- それ以外 -> fruit_type = 4"
   ]
  },
  {
   "cell_type": "markdown",
   "metadata": {},
   "source": [
    "# とりあえずループは遅い\n",
    "\n",
    "Pythonで計算をする際によく言われることで、ループを書いたりすると大分遅くなります。数千件程度であればさくっとループで対応したりすることも多いですが、今回のような7桁件数だと結構苦しくなります。\n",
    "\n",
    "とりあえず、比較としてデータフレームのiterrows関数でループを回して、1行1行値を設定してみます。もちろん、7桁件数など流すと終わらなくなってしまうので、100件程度に絞って実施してみます。"
   ]
  },
  {
   "cell_type": "code",
   "execution_count": 22,
   "metadata": {},
   "outputs": [],
   "source": [
    "sliced_df = df[:100]"
   ]
  },
  {
   "cell_type": "code",
   "execution_count": 24,
   "metadata": {},
   "outputs": [
    {
     "name": "stdout",
     "output_type": "stream",
     "text": [
      "7.9 s ± 635 ms per loop (mean ± std. dev. of 7 runs, 1 loop each)\n"
     ]
    }
   ],
   "source": [
    "%%timeit\n",
    "for index, sr in sliced_df.iterrows():\n",
    "    if sr.apple_price >= 120 and sr.orange_price >= 130:\n",
    "        df.loc[index, 'fruit_type'] = 1\n",
    "        continue\n",
    "    \n",
    "    if sr.apple_price <= 130 and sr.melon_price >= 200:\n",
    "        df.loc[index, 'fruit_type'] = 2\n",
    "        continue\n",
    "    \n",
    "    if sr.orange_price <= 100 and sr.melon_price <= 300:\n",
    "        df.loc[index, 'fruit_type'] = 3\n",
    "        continue\n",
    "    \n",
    "    df.loc[index, 'fruit_type'] = 4"
   ]
  },
  {
   "cell_type": "markdown",
   "metadata": {},
   "source": [
    "ループの処理が遅いだけでなく、シリーズやデータフレームへの個別のアクセスは大分遅いので、件数を少なくしているにも関わらずとても時間がかかっています。\n",
    "\n",
    "※ms = 1/1000秒、µs = 1/1000/1000秒、ns = 1/1000/1000/1000秒"
   ]
  },
  {
   "cell_type": "code",
   "execution_count": 29,
   "metadata": {},
   "outputs": [
    {
     "name": "stdout",
     "output_type": "stream",
     "text": [
      "27.5 µs ± 2.62 µs per loop (mean ± std. dev. of 7 runs, 10000 loops each)\n"
     ]
    }
   ],
   "source": [
    "# シリーズの値にアクセスする場合の速度確認。\n",
    "%timeit apple_price = sr.apple_price"
   ]
  },
  {
   "cell_type": "code",
   "execution_count": 30,
   "metadata": {},
   "outputs": [
    {
     "name": "stdout",
     "output_type": "stream",
     "text": [
      "85.3 ms ± 20 ms per loop (mean ± std. dev. of 7 runs, 10 loops each)\n"
     ]
    }
   ],
   "source": [
    "# データフレームの個別の個所に値を設定する場合の速度確認。\n",
    "%timeit df.loc[0, 'fruit_type'] = 1"
   ]
  },
  {
   "cell_type": "markdown",
   "metadata": {},
   "source": [
    "比較として、Pythonの辞書のデータで、値の参照や設定をしてみると、個別のシリーズやデータフレームへのアクセスが遅いことがよくわかります。"
   ]
  },
  {
   "cell_type": "code",
   "execution_count": 32,
   "metadata": {},
   "outputs": [],
   "source": [
    "sample_dict = {'apple_price': 100}"
   ]
  },
  {
   "cell_type": "code",
   "execution_count": 33,
   "metadata": {},
   "outputs": [
    {
     "name": "stdout",
     "output_type": "stream",
     "text": [
      "66.8 ns ± 4.6 ns per loop (mean ± std. dev. of 7 runs, 10000000 loops each)\n"
     ]
    }
   ],
   "source": [
    "%timeit apple_price = sample_dict['apple_price']"
   ]
  },
  {
   "cell_type": "code",
   "execution_count": 35,
   "metadata": {},
   "outputs": [
    {
     "name": "stdout",
     "output_type": "stream",
     "text": [
      "138 ns ± 10.5 ns per loop (mean ± std. dev. of 7 runs, 10000000 loops each)\n"
     ]
    }
   ],
   "source": [
    "%timeit sample_dict['fruit_type'] = 1"
   ]
  },
  {
   "cell_type": "markdown",
   "metadata": {},
   "source": [
    "# apply関数を利用する\n",
    "\n",
    "基本的には、pandas側で色々関数が用意されているので、それらを使って全行一気に処理したり、スライスやベクトル演算的なことをして対応ができれば、それがシンプルで計算も早く終わります。\n",
    "\n",
    "今回は、それらでは対応ができないと仮定して、pandasのapply関数を使って、各行ごとに任意の関数を適用していってみます。\n",
    "\n",
    "このapply関数ですが、指定したい関数を用意しつつ、以下のように書きます。"
   ]
  },
  {
   "cell_type": "code",
   "execution_count": 42,
   "metadata": {},
   "outputs": [],
   "source": [
    "def get_multiplied_price(apple_price):\n",
    "    # サンプルのため、適当な記述にしてあります。\n",
    "    print('apple_price :', apple_price)\n",
    "    return apple_price * 2"
   ]
  },
  {
   "cell_type": "code",
   "execution_count": 45,
   "metadata": {},
   "outputs": [],
   "source": [
    "sliced_df = df[:3]"
   ]
  },
  {
   "cell_type": "code",
   "execution_count": 46,
   "metadata": {},
   "outputs": [
    {
     "data": {
      "text/html": [
       "<div>\n",
       "<table border=\"1\" class=\"dataframe\">\n",
       "  <thead>\n",
       "    <tr style=\"text-align: right;\">\n",
       "      <th></th>\n",
       "      <th>apple_price</th>\n",
       "      <th>orange_price</th>\n",
       "      <th>melon_price</th>\n",
       "      <th>fruit_type</th>\n",
       "    </tr>\n",
       "  </thead>\n",
       "  <tbody>\n",
       "    <tr>\n",
       "      <th>0</th>\n",
       "      <td>119</td>\n",
       "      <td>106</td>\n",
       "      <td>181</td>\n",
       "      <td>1.0</td>\n",
       "    </tr>\n",
       "    <tr>\n",
       "      <th>1</th>\n",
       "      <td>75</td>\n",
       "      <td>117</td>\n",
       "      <td>243</td>\n",
       "      <td>2.0</td>\n",
       "    </tr>\n",
       "    <tr>\n",
       "      <th>2</th>\n",
       "      <td>113</td>\n",
       "      <td>120</td>\n",
       "      <td>172</td>\n",
       "      <td>4.0</td>\n",
       "    </tr>\n",
       "  </tbody>\n",
       "</table>\n",
       "</div>"
      ],
      "text/plain": [
       "   apple_price  orange_price  melon_price  fruit_type\n",
       "0          119           106          181         1.0\n",
       "1           75           117          243         2.0\n",
       "2          113           120          172         4.0"
      ]
     },
     "execution_count": 46,
     "metadata": {},
     "output_type": "execute_result"
    }
   ],
   "source": [
    "sliced_df"
   ]
  },
  {
   "cell_type": "code",
   "execution_count": 47,
   "metadata": {},
   "outputs": [
    {
     "name": "stdout",
     "output_type": "stream",
     "text": [
      "apple_price : 119\n",
      "apple_price : 75\n",
      "apple_price : 113\n"
     ]
    },
    {
     "data": {
      "text/plain": [
       "0    238\n",
       "1    150\n",
       "2    226\n",
       "Name: apple_price, dtype: int64"
      ]
     },
     "execution_count": 47,
     "metadata": {},
     "output_type": "execute_result"
    }
   ],
   "source": [
    "sliced_df.apple_price.apply(get_multiplied_price)"
   ]
  },
  {
   "cell_type": "markdown",
   "metadata": {},
   "source": [
    "データフレームのapple_priceの列に対してapplyを実行し、引数に反映する関数（get_multiplied_price）を指定します。そうすると、apple_priceの各行の値がget_multiplied_price関数の第一引数に渡されて、且つ指定した行数のシリーズが返却されます。\n",
    "\n",
    "これを利用して各行の値に応じて、既存のカラムの値を任意の関数を反映して更新したり、新しいカラムを追加したりすることができます。\n",
    "\n",
    "しかしながら、上記のようなコードを見て分かる通り、引数にデータフレーム内の1つのカラムの値（apple_price）しか指定できていません。今回目的とする値では、3カラム分関数内で必要になります。\n",
    "\n",
    "データフレーム自体にapply関数を実行した場合、第一引数の値はシリーズとなりますが、これでは先ほど触れたとおり、シリーズの値に対して1行ごとにアクセスするため、とても時間がかかります。"
   ]
  },
  {
   "cell_type": "code",
   "execution_count": 62,
   "metadata": {},
   "outputs": [],
   "source": [
    "def get_fruit_type(sr):\n",
    "    \"\"\"\n",
    "    果物の値段に応じた種別値を取得する。\n",
    "    \n",
    "    Parameters\n",
    "    ----------\n",
    "    sr : Series\n",
    "        各果物の値を格納したシリーズ。\n",
    "    \n",
    "    Returns\n",
    "    -------\n",
    "    fruit_type : int\n",
    "        各値段に応じて、1～4までの値が設定される。\n",
    "    \"\"\"\n",
    "    \n",
    "    apple_price = sr.apple_price\n",
    "    orange_price = sr.orange_price\n",
    "    melon_price = sr.melon_price\n",
    "    \n",
    "    if apple_price >= 120 and orange_price >= 130:\n",
    "        return 1\n",
    "    \n",
    "    if apple_price <= 130 and melon_price >= 200:\n",
    "        return 2\n",
    "    \n",
    "    if orange_price <= 100 and melon_price <= 300:\n",
    "        return 3\n",
    "    \n",
    "    return 4"
   ]
  },
  {
   "cell_type": "code",
   "execution_count": 64,
   "metadata": {},
   "outputs": [
    {
     "data": {
      "text/plain": [
       "0    4\n",
       "1    2\n",
       "2    4\n",
       "dtype: int64"
      ]
     },
     "execution_count": 64,
     "metadata": {},
     "output_type": "execute_result"
    }
   ],
   "source": [
    "# 1行ずつの値をget_fruit_type関数の第一引数に指定するため、\n",
    "# axis=1を指定しています。\n",
    "# 目的とする各行の値は求まるものの、処理時間がとてもかかります。\n",
    "sliced_df.apply(get_fruit_type, axis=1)"
   ]
  },
  {
   "cell_type": "markdown",
   "metadata": {},
   "source": [
    "１行あたりどのくらい処理に時間がかかるのか、直接関数を実行してみて確認してみます。"
   ]
  },
  {
   "cell_type": "code",
   "execution_count": 65,
   "metadata": {},
   "outputs": [
    {
     "name": "stdout",
     "output_type": "stream",
     "text": [
      "847 µs ± 61.9 µs per loop (mean ± std. dev. of 7 runs, 1000 loops each)\n"
     ]
    }
   ],
   "source": [
    "%timeit get_fruit_type(sr=sliced_df.iloc[0])"
   ]
  },
  {
   "cell_type": "markdown",
   "metadata": {},
   "source": [
    "1行あたり約850µsとしましょう。500万行なので、大体71分程度かかります。\n",
    "\n",
    "計算できないこともないですが、これだけの計算で1時間以上かかるのは大分辛い感じです。"
   ]
  },
  {
   "cell_type": "code",
   "execution_count": 67,
   "metadata": {},
   "outputs": [
    {
     "data": {
      "text/plain": [
       "70.83333333333333"
      ]
     },
     "execution_count": 67,
     "metadata": {},
     "output_type": "execute_result"
    }
   ],
   "source": [
    "850 * 5000000 / 1000 / 1000 / 60"
   ]
  },
  {
   "cell_type": "markdown",
   "metadata": {},
   "source": [
    "ではどうするのか。\n",
    "\n",
    "解決策の1例ですが、以下のような対応でPythonとpandasなど基本的なものだけで、比較的高速に計算することができます。\n",
    "\n",
    "- データフレームのインデックスをユニークな値にしておきます。\n",
    "- データフレームのインデックスをキーとして、各カラムの値を格納した辞書を用意します。\n",
    "    - ※辞書への変換はpandasのto_dict関数を使うことで、全行まとめて1回のみで終わるため、数秒程度で終わります。\n",
    "- インデックスの値を格納するカラムをデータフレームに追加します。\n",
    "- apply関数の引数に、インデックスの値のカラムを指定し、そのインデックスがキーに設定されている値を各辞書から取得します。\n",
    "    - 前述のとおり、Pythonの辞書へのアクセスであれば、シリーズにアクセスするのと比べてかなり高速に動作するため、1行辺りの処理が大分早くなります。"
   ]
  },
  {
   "cell_type": "code",
   "execution_count": 68,
   "metadata": {},
   "outputs": [],
   "source": [
    "# データフレームのインデックスをユニークな値にする。\n",
    "# ※基本的に、連結などをしていなければ元々ユニークな連番で\n",
    "# 割り振られています。\n",
    "df.reset_index(drop=True, inplace=True)"
   ]
  },
  {
   "cell_type": "code",
   "execution_count": 69,
   "metadata": {},
   "outputs": [],
   "source": [
    "# 各カラムの辞書を用意します。キーにはデータフレームのインデックス\n",
    "# が設定されます。\n",
    "apple_price_dict = df.apple_price.to_dict()"
   ]
  },
  {
   "cell_type": "code",
   "execution_count": 70,
   "metadata": {},
   "outputs": [],
   "source": [
    "orange_price_dict = df.orange_price.to_dict()"
   ]
  },
  {
   "cell_type": "code",
   "execution_count": 71,
   "metadata": {},
   "outputs": [],
   "source": [
    "melon_price_dict = df.melon_price.to_dict()"
   ]
  },
  {
   "cell_type": "code",
   "execution_count": 73,
   "metadata": {},
   "outputs": [],
   "source": [
    "# インデックスの値を格納するカラムをデータフレームに追加します。\n",
    "df['index_val'] = df.index"
   ]
  },
  {
   "cell_type": "code",
   "execution_count": 74,
   "metadata": {},
   "outputs": [],
   "source": [
    "# apply関数の引数に、インデックスの値のカラムを指定して、関数内で\n",
    "# そのインデックスを参照して辞書から各値を取得します。"
   ]
  },
  {
   "cell_type": "code",
   "execution_count": 75,
   "metadata": {},
   "outputs": [],
   "source": [
    "def get_fruit_type(index):\n",
    "    \"\"\"\n",
    "    果物の値段に応じた種別値を取得する。\n",
    "    \n",
    "    Parameters\n",
    "    ----------\n",
    "    index : int\n",
    "        対象の行のデータフレームのインデックス。\n",
    "    \n",
    "    Returns\n",
    "    -------\n",
    "    fruit_type : int\n",
    "        各値段に応じて、1～4までの値が設定される。\n",
    "    \"\"\"\n",
    "    \n",
    "    apple_price = apple_price_dict[index]\n",
    "    orange_price = orange_price_dict[index]\n",
    "    melon_price = melon_price_dict[index]\n",
    "    \n",
    "    if apple_price >= 120 and orange_price >= 130:\n",
    "        return 1\n",
    "    \n",
    "    if apple_price <= 130 and melon_price >= 200:\n",
    "        return 2\n",
    "    \n",
    "    if orange_price <= 100 and melon_price <= 300:\n",
    "        return 3\n",
    "    \n",
    "    return 4"
   ]
  },
  {
   "cell_type": "markdown",
   "metadata": {},
   "source": [
    "試しに、直接関数を実行してみて処理時間を計ってみます。"
   ]
  },
  {
   "cell_type": "code",
   "execution_count": 76,
   "metadata": {},
   "outputs": [
    {
     "name": "stdout",
     "output_type": "stream",
     "text": [
      "1.8 µs ± 150 ns per loop (mean ± std. dev. of 7 runs, 1000000 loops each)\n"
     ]
    }
   ],
   "source": [
    "%timeit get_fruit_type(index=0)"
   ]
  },
  {
   "cell_type": "markdown",
   "metadata": {},
   "source": [
    "変更前が大体850µsだったので、約470倍くらい早くなりました。\n",
    "\n",
    "辞書への変換などの他の処理の分も含めても、500万行への関数反映で30秒以内に終わるのでは、というレベルになりました。"
   ]
  },
  {
   "cell_type": "code",
   "execution_count": 79,
   "metadata": {},
   "outputs": [],
   "source": [
    "# データフレームのインデックスの値が、apply関数の引数に渡るように指定します。\n",
    "df['fruit_type'] = df.index_val.apply(get_fruit_type)"
   ]
  },
  {
   "cell_type": "code",
   "execution_count": 81,
   "metadata": {},
   "outputs": [
    {
     "data": {
      "text/html": [
       "<div>\n",
       "<table border=\"1\" class=\"dataframe\">\n",
       "  <thead>\n",
       "    <tr style=\"text-align: right;\">\n",
       "      <th></th>\n",
       "      <th>apple_price</th>\n",
       "      <th>orange_price</th>\n",
       "      <th>melon_price</th>\n",
       "      <th>fruit_type</th>\n",
       "      <th>index_val</th>\n",
       "    </tr>\n",
       "  </thead>\n",
       "  <tbody>\n",
       "    <tr>\n",
       "      <th>0</th>\n",
       "      <td>119</td>\n",
       "      <td>106</td>\n",
       "      <td>181</td>\n",
       "      <td>4</td>\n",
       "      <td>0</td>\n",
       "    </tr>\n",
       "    <tr>\n",
       "      <th>1</th>\n",
       "      <td>75</td>\n",
       "      <td>117</td>\n",
       "      <td>243</td>\n",
       "      <td>2</td>\n",
       "      <td>1</td>\n",
       "    </tr>\n",
       "    <tr>\n",
       "      <th>2</th>\n",
       "      <td>113</td>\n",
       "      <td>120</td>\n",
       "      <td>172</td>\n",
       "      <td>4</td>\n",
       "      <td>2</td>\n",
       "    </tr>\n",
       "    <tr>\n",
       "      <th>3</th>\n",
       "      <td>97</td>\n",
       "      <td>118</td>\n",
       "      <td>303</td>\n",
       "      <td>2</td>\n",
       "      <td>3</td>\n",
       "    </tr>\n",
       "    <tr>\n",
       "      <th>4</th>\n",
       "      <td>102</td>\n",
       "      <td>110</td>\n",
       "      <td>201</td>\n",
       "      <td>2</td>\n",
       "      <td>4</td>\n",
       "    </tr>\n",
       "  </tbody>\n",
       "</table>\n",
       "</div>"
      ],
      "text/plain": [
       "   apple_price  orange_price  melon_price  fruit_type  index_val\n",
       "0          119           106          181           4          0\n",
       "1           75           117          243           2          1\n",
       "2          113           120          172           4          2\n",
       "3           97           118          303           2          3\n",
       "4          102           110          201           2          4"
      ]
     },
     "execution_count": 81,
     "metadata": {},
     "output_type": "execute_result"
    }
   ],
   "source": [
    "df[:5]"
   ]
  },
  {
   "cell_type": "code",
   "execution_count": 82,
   "metadata": {},
   "outputs": [
    {
     "data": {
      "text/plain": [
       "array([4, 2, 3, 1])"
      ]
     },
     "execution_count": 82,
     "metadata": {},
     "output_type": "execute_result"
    }
   ],
   "source": [
    "df.fruit_type.unique()"
   ]
  },
  {
   "cell_type": "markdown",
   "metadata": {},
   "source": [
    "Pythonとほぼpandaのみで、ローカルでちょこっと計算したい場合などには必要十分な速度を出すことができました。（Cythonとか、使い方をよく把握していない、といった方にも使えるかもしれません）\n",
    "\n",
    "今回は適当な関数を使いましたが、実際の業務ではもっと複雑な条件などの関数が必要になってくると思います。そういった場合でも関数が適用できるというのは、いろいろ柔軟にデータの変形などを対応できるので、知っておいても損はないかもしれません。"
   ]
  },
  {
   "cell_type": "markdown",
   "metadata": {},
   "source": [
    "# デメリットは？\n",
    "\n",
    "途中で辞書変換を挟む都合、メモリがその分余分に必要になります。"
   ]
  },
  {
   "cell_type": "markdown",
   "metadata": {},
   "source": [
    "# おまけ\n",
    "\n",
    "実行環境 : Azure Notebooks"
   ]
  },
  {
   "cell_type": "code",
   "execution_count": 80,
   "metadata": {},
   "outputs": [
    {
     "name": "stdout",
     "output_type": "stream",
     "text": [
      "Python 3.5.4 :: Anaconda custom (64-bit)\r\n"
     ]
    }
   ],
   "source": [
    "# Pythonバージョン :\n",
    "!python -V"
   ]
  },
  {
   "cell_type": "code",
   "execution_count": null,
   "metadata": {
    "collapsed": true
   },
   "outputs": [],
   "source": []
  }
 ],
 "metadata": {
  "kernelspec": {
   "display_name": "Python 3",
   "language": "python",
   "name": "python3"
  },
  "language_info": {
   "codemirror_mode": {
    "name": "ipython",
    "version": 3
   },
   "file_extension": ".py",
   "mimetype": "text/x-python",
   "name": "python",
   "nbconvert_exporter": "python",
   "pygments_lexer": "ipython3",
   "version": "3.5.4"
  },
  "toc": {
   "nav_menu": {},
   "number_sections": true,
   "sideBar": true,
   "skip_h1_title": false,
   "toc_cell": true,
   "toc_position": {},
   "toc_section_display": "block",
   "toc_window_display": true
  }
 },
 "nbformat": 4,
 "nbformat_minor": 2
}
